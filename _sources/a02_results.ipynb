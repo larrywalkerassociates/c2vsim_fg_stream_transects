{
 "cells": [
  {
   "cell_type": "markdown",
   "id": "248405ce",
   "metadata": {
    "editable": true,
    "lines_to_next_cell": 0,
    "slideshow": {
     "slide_type": ""
    }
   },
   "source": [
    "# Results\n",
    "The Sacramento River bed elevation ranges from approximately 250 ft to -25 ft (amsl) along the study transect, with a\n",
    "steeper slope toward Red Bluff. Comparing river bathymetry with simulated and observed groundwater levels provides a\n",
    "straightforward indicator of stream–aquifer interactions: when groundwater levels are above the streambed, the river\n",
    "is likely gaining; when below, it is likely losing. If the groundwater\n",
    "levels plot above the streambed, we expect the flow to occur from the aquifer towards the river. In turn, if the\n",
    "groundwater table plots below the bathymetry, we expect flow to occur from the river towards the underlying aquifer.\n",
    "\n",
    "Our analysis shows a highly dynamic system, with both gaining and losing reaches present across all three transects.\n",
    "Seasonal variability is pronounced: spring months exhibit the longest stretches of gaining reaches, which transition\n",
    "to losing reaches in the fall. Interannual variability is also significant—segments that gain flow during wet years\n",
    "often become losing reaches during critical years. The animations in this section illustrate these spatial and\n",
    "temporal patterns, highlighting how hydrologic conditions and lithology influence stream–groundwater connectivity."
   ]
  },
  {
   "cell_type": "code",
   "execution_count": null,
   "id": "191ce26f",
   "metadata": {
    "editable": true,
    "slideshow": {
     "slide_type": ""
    },
    "tags": [
     "remove-input"
    ]
   },
   "outputs": [],
   "source": []
  }
 ],
 "metadata": {
  "jupytext": {
   "cell_metadata_filter": "editable,slideshow,tags,-all",
   "formats": "ipynb,py:percent",
   "main_language": "python"
  }
 },
 "nbformat": 4,
 "nbformat_minor": 5
}
