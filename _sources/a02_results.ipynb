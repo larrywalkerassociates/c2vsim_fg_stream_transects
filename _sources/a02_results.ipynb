{
 "cells": [
  {
   "cell_type": "markdown",
   "id": "30e88e8b",
   "metadata": {
    "editable": true,
    "lines_to_next_cell": 0,
    "slideshow": {
     "slide_type": ""
    }
   },
   "source": [
    "# Results\n",
    "In this section, we look at the stream transects generated for the Sacramento River between Red Bluff\n",
    "and Sacramento."
   ]
  },
  {
   "cell_type": "code",
   "execution_count": null,
   "id": "577aab70",
   "metadata": {
    "editable": true,
    "slideshow": {
     "slide_type": ""
    },
    "tags": [
     "remove-input"
    ]
   },
   "outputs": [],
   "source": []
  }
 ],
 "metadata": {
  "jupytext": {
   "cell_metadata_filter": "editable,slideshow,tags,-all",
   "formats": "ipynb,py:percent",
   "main_language": "python"
  }
 },
 "nbformat": 4,
 "nbformat_minor": 5
}
