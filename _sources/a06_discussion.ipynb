{
 "cells": [
  {
   "cell_type": "markdown",
   "id": "07899b17",
   "metadata": {
    "editable": true,
    "slideshow": {
     "slide_type": ""
    }
   },
   "source": [
    "# Discussion\n",
    "Our extracted streambed elevations from bathymetry show significant spatial variability, likely because stream nodes\n",
    "do not perfectly align with the lowest points of the channel. A potential improvement would be refining the transect\n",
    "using bathymetry-informed adjustments or applying a DEM-based stream delineation algorithm to connect the lowest points\n",
    "of the channel along the flow direction.\n",
    "\n",
    "Our approach to classifying gaining vs. losing reaches by comparing groundwater levels to bathymetry is reasonable for\n",
    "shallow sections where bathymetry approximates river stage. However, in deeper, low-slope sections downstream, the\n",
    "difference between streambed elevation and actual water stage can be substantial. Incorporating interpolated stage\n",
    "time series from stream gages in future iterations would provide an additional benchmark.\n"
   ]
  }
 ],
 "metadata": {
  "jupytext": {
   "cell_metadata_filter": "editable,slideshow,tags,-all",
   "formats": "ipynb,py:percent",
   "main_language": "python"
  }
 },
 "nbformat": 4,
 "nbformat_minor": 5
}
