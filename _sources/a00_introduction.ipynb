{
 "cells": [
  {
   "cell_type": "markdown",
   "id": "958b9197",
   "metadata": {
    "editable": true,
    "slideshow": {
     "slide_type": ""
    }
   },
   "source": [
    "# Introduction\n",
    " Over the past decade, SGMA implementation in California has generated vast amounts of observed and simulated data.\n",
    " Presenting these data in a meaningful, intuitive, and transparent way requires advanced processing and visualization\n",
    " tools. However, most mainstream tools are proprietary, leading to recurring license costs and limited flexibility.\n",
    "\n",
    " The widespread adoption of high-level programming such as Python and R has enabled the development of open-source\n",
    " libraries that support customizable workflows—from data processing and visualization to interactive dashboards.\n",
    "\n",
    " In this work, we present a Python-based workflow to integrate public datasets of observed and simulated groundwater\n",
    " levels, lithology logs, and bathymetry, to create animated stream transects for the Sacramento River. These animations\n",
    " help assess stream-groundwater connectivity under varied hydrologic conditions varied lithologies. The workflow is\n",
    " customizable and replicable for other streams across California's Central Valley."
   ]
  }
 ],
 "metadata": {
  "jupytext": {
   "cell_metadata_filter": "editable,slideshow,tags,-all",
   "formats": "ipynb,py:percent",
   "main_language": "python"
  }
 },
 "nbformat": 4,
 "nbformat_minor": 5
}
