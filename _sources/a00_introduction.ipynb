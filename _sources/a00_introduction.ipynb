{
 "cells": [
  {
   "cell_type": "markdown",
   "id": "335af3c6",
   "metadata": {
    "editable": true,
    "slideshow": {
     "slide_type": ""
    }
   },
   "source": [
    "# Introduction\n",
    "- Problem Statement:\n",
    "   - 10 years of SGMA have generated large amounts of field and modeling data\n",
    "   - Presenting these data in a meaningful, intuitive, and transparent way requires sophisticated and highly customizable\n",
    "     visualization tools\n",
    "   - Mainstream tools are propietary, resulting in license costs and limited flexibility for users\n",
    " - Why it is important:\n",
    "   - Field and simulated data is of limited use if it cannot be effectively communicated to stakeholders and used\n",
    "     for decision-making\n",
    "   - When processing data, the devil often lies in the details, which proprietary tools often obscure making it difficult\n",
    "     to peer-review and recreate workflows\n",
    "   - High-level programming languages (e.g., Python, R) provide a wide array of open-source and accessible tools that\n",
    "     can be used to streamline data processing, visualization, and dashboard deployment for engineers and scientists.\n",
    " - How we have approached it (in general terms):\n",
    "   - We have developed a Python-based workflow to process public groundwater levels, lithology logs, bathymetry, and\n",
    "     simulated groundwater levels, displaying them in animated stream transects, which are deployed as dashboards.\n",
    "  - What is new about what we have done:\n",
    "    - Integrating multiple open-source datasets into one type of visualization\n",
    "    - Customizable and transparent workflow that can be replicated at other streams in the Central Valley with low\n",
    "      effort"
   ]
  }
 ],
 "metadata": {
  "jupytext": {
   "cell_metadata_filter": "editable,slideshow,tags,-all",
   "formats": "ipynb,py:percent",
   "main_language": "python"
  }
 },
 "nbformat": 4,
 "nbformat_minor": 5
}
