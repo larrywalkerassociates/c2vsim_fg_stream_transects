{
 "cells": [
  {
   "cell_type": "code",
   "execution_count": null,
   "id": "f9f25895",
   "metadata": {
    "editable": true,
    "slideshow": {
     "slide_type": ""
    },
    "tags": [
     "remove-input"
    ]
   },
   "outputs": [],
   "source": [
    "import os\n",
    "import warnings\n",
    "\n",
    "warnings.filterwarnings('ignore')\n",
    "\n",
    "\n",
    "# Path to the root of the repository\n",
    "repo_dir = os.getcwd()\n",
    "current_dir = os.getcwd()\n",
    "\n",
    "while os.path.split(repo_dir)[1] != \"c2vsim_fg_stream_transects\":\n",
    "    repo_dir = os.path.split(repo_dir)[0]\n",
    "    if os.path.split(os.path.split(repo_dir)[0])[1] == \"c2vsim_fg_stream_transects\":\n",
    "        repo_dir = os.path.split(repo_dir)[0]"
   ]
  },
  {
   "cell_type": "markdown",
   "id": "7ba4e39b",
   "metadata": {
    "editable": true,
    "lines_to_next_cell": 0,
    "slideshow": {
     "slide_type": ""
    }
   },
   "source": [
    "# Preparing Stream and Groundwater Data from C2VSimFG v1.5\n",
    "In this section, we prepare the model data that will be used to make the stream transects. The workflow used hereafter\n",
    "consists of the following steps:\n",
    "1. We load the Stream Specification File and the Nodal X-Y Coordinate File and generate a lines geodataframe\n",
    "of the streams represented in the model.\n",
    "2. Using the stream lines shapefile generated in the previous step, we select the streams of interest for our analysis.\n",
    "3. We load the Stratigraphy File and join ground surface elevations and layer thicknesses to the stream nodes.\n",
    "4. We load the timeseries \"Groundwater Head at All Nodes\" file (C2VSimFG_GW_HeadAll.out) and join simulated groundwater heads\n",
    "to stream nodes.\n",
    "5. For each node, we extract the groundwater heads for the highest active layer. To do so, we iterate through the\n",
    "layers and select the highest one that presents a thickness greater than zero."
   ]
  },
  {
   "cell_type": "code",
   "execution_count": null,
   "id": "ba029e5b",
   "metadata": {
    "editable": true,
    "slideshow": {
     "slide_type": ""
    },
    "tags": [
     "remove-input"
    ]
   },
   "outputs": [],
   "source": []
  }
 ],
 "metadata": {
  "jupytext": {
   "cell_metadata_filter": "editable,slideshow,tags,-all",
   "formats": "ipynb,py:percent",
   "main_language": "python"
  }
 },
 "nbformat": 4,
 "nbformat_minor": 5
}
